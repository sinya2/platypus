{
 "cells": [
  {
   "cell_type": "code",
   "execution_count": 129,
   "id": "d84c66fb",
   "metadata": {},
   "outputs": [],
   "source": [
    "import pandas as pd\n",
    "import matplotlib.pyplot as plt\n",
    "import numpy as np\n",
    "from bs4 import BeautifulSoup\n",
    "%matplotlib inline\n",
    "\n",
    "\n",
    "# load data\n",
    "data = pd.read_csv('/Users/sinya/Downloads/TitlesWeight_6Month.csv',engine = 'python', names=['Words', 'Frequency','Weight'])\n",
    "data.drop(labels=[0],axis=0, inplace = True) \n",
    "data['Weight'] = data['Weight'].astype(int)\n",
    "data['Words'] = data['Words'].astype(str)\n",
    "total_weight= sum(data['Weight'])\n"
   ]
  },
  {
   "cell_type": "code",
   "execution_count": 130,
   "id": "9cf75620",
   "metadata": {},
   "outputs": [],
   "source": [
    "# build vocabular of most popular words in english\n",
    "vocabular = [] \n",
    "with open('/Users/sinya/vocabular.txt', 'r', encoding='utf8') as f: \n",
    "    soup = BeautifulSoup(f)\n",
    "    # get text\n",
    "    text = soup.get_text()\n",
    "    # break into lines and remove leading and trailing space on each\n",
    "    for line in text.splitlines():\n",
    "        vocabular+=line.strip().split()"
   ]
  },
  {
   "cell_type": "code",
   "execution_count": 131,
   "id": "76f46310",
   "metadata": {},
   "outputs": [],
   "source": [
    "# build collections of words we need to delete\n",
    "\n",
    "from nltk.corpus import stopwords\n",
    "#nltk.download('stopwords')\n",
    "english_stopwords = set(stopwords.words(\"english\"))\n",
    "common_words = set(vocabular)\n"
   ]
  },
  {
   "cell_type": "code",
   "execution_count": 132,
   "id": "8060ad0b",
   "metadata": {},
   "outputs": [],
   "source": [
    "# create a dictionary of words in Titles\n",
    "\n",
    "from collections import defaultdict\n",
    "\n",
    "words_freq = defaultdict(int)\n",
    "total_weight = 0\n",
    "\n",
    "for word in data['Words']:\n",
    "    if str(word).lower() not in english_stopwords and str(word).lower() not in common_words and str(word).lower()!='nan':\n",
    "        words_freq[str(word).lower()] = int(data[data['Words']==word]['Weight'])\n",
    "        total_weight += int(data[data['Words']==word]['Weight'])\n",
    "        \n",
    "        \n",
    "\n"
   ]
  },
  {
   "cell_type": "code",
   "execution_count": 133,
   "id": "bcb63940",
   "metadata": {},
   "outputs": [
    {
     "data": {
      "text/plain": [
       "[[1493543, 'typeerror:'],\n",
       " [1368471, '(reading'],\n",
       " [664177, 'removed.'],\n",
       " [508306, 'cannot'],\n",
       " [338749, 'envelope'],\n",
       " [318361, ':'],\n",
       " [266026, \"'id')\"],\n",
       " [246769, \"'map')\"],\n",
       " [235141, '\"error:0308010c:digital'],\n",
       " [235141, 'routines::unsupported\"'],\n",
       " [228853, '<route>'],\n",
       " [223621, 'defined'],\n",
       " [212650, '×'],\n",
       " [203163, 'found:'],\n",
       " [190913, 'mincompilesdk'],\n",
       " [190402, '15'],\n",
       " [188684, '6'],\n",
       " [187954, \"can't\"],\n",
       " [187844, '(31)'],\n",
       " [183293, \"dependency's\"]]"
      ]
     },
     "execution_count": 133,
     "metadata": {},
     "output_type": "execute_result"
    }
   ],
   "source": [
    "# overview of most popular words\n",
    "top = [[value, key] for key, value in words_freq.items()]\n",
    "top = sorted(top, key=lambda x:x[0], reverse=True)\n",
    "top_20 = top[:20]\n",
    "top_20"
   ]
  },
  {
   "cell_type": "code",
   "execution_count": 134,
   "id": "328f472f",
   "metadata": {},
   "outputs": [],
   "source": [
    "tags=[['python',0],['javascript',0],['reactjs',0],['java',0],['android',0],['node.js',0],['c#',0],['flutter',0],['typescript',0],['html',0]]\n",
    "for i in range(len(tags)):\n",
    "    tags[i][1]=int(words_freq[tags[i][0]])\n"
   ]
  },
  {
   "cell_type": "code",
   "execution_count": 135,
   "id": "04a94a6e",
   "metadata": {},
   "outputs": [
    {
     "data": {
      "text/plain": [
       "<BarContainer object of 10 artists>"
      ]
     },
     "execution_count": 135,
     "metadata": {},
     "output_type": "execute_result"
    },
    {
     "data": {
      "image/png": "[encoded data removed]",
      "text/plain": [
       "<Figure size 1080x504 with 1 Axes>"
      ]
     },
     "metadata": {
      "needs_background": "light"
     },
     "output_type": "display_data"
    }
   ],
   "source": [
    "plt.figure(figsize=[15, 7])\n",
    "plt.title('Top 10 Tags in Titles', fontsize=20)\n",
    "plt.ylabel('Counts', fontsize=15)\n",
    "plt.xlabel('Tags', fontsize=15)\n",
    "nums = [tags[i][0] for i in range(10)]\n",
    "weights = [tags[i][1] for i in range(10)]\n",
    "plt.bar(nums, weights, width=0.9)"
   ]
  },
  {
   "cell_type": "code",
   "execution_count": null,
   "id": "71e3eb90",
   "metadata": {},
   "outputs": [],
   "source": []
  }
 ],
 "metadata": {
  "kernelspec": {
   "display_name": "Python 3",
   "language": "python",
   "name": "python3"
  },
  "language_info": {
   "codemirror_mode": {
    "name": "ipython",
    "version": 3
   },
   "file_extension": ".py",
   "mimetype": "text/x-python",
   "name": "python",
   "nbconvert_exporter": "python",
   "pygments_lexer": "ipython3",
   "version": "3.8.8"
  }
 },
 "nbformat": 4,
 "nbformat_minor": 5
}
