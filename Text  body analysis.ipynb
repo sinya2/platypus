{
 "cells": [
  {
   "cell_type": "code",
   "execution_count": 72,
   "id": "33a7f022",
   "metadata": {},
   "outputs": [],
   "source": [
    "import nltk\n",
    "#nltk.download('punkt')\n",
    "import numpy as np\n",
    "import pandas as pd\n",
    "import matplotlib.pyplot as plt\n",
    "from bs4 import BeautifulSoup\n",
    "import string\n",
    "%matplotlib inline"
   ]
  },
  {
   "cell_type": "code",
   "execution_count": 73,
   "id": "8cddf9ce",
   "metadata": {},
   "outputs": [],
   "source": [
    "# loading data\n",
    "data = pd.read_csv('/Users/sinya/Downloads/Body_6Month.csv',engine = 'python', names=['Title', 'ViewCount', 'Body', 'CommentCount'])\n",
    "data['Body'] = data['Body'].astype(str)\n",
    "data['Body'].tolist()\n",
    "allbodies = ''\n",
    "# kill php and union all bodies in one text\n",
    "for body in data['Body']:\n",
    "    soup = BeautifulSoup(body, features=\"html.parser\")\n",
    "\n",
    "    # kill all script and style elements\n",
    "    for script in soup([ \"style\"]):\n",
    "        script.extract()    # rip it out\n",
    "\n",
    "    # get text\n",
    "    text = soup.get_text()\n",
    "\n",
    "    # break into lines and remove leading and trailing space on each\n",
    "    lines = (line.strip() for line in text.splitlines())\n",
    "    # break multi-headlines into a line each\n",
    "    chunks = (phrase.strip() for line in lines for phrase in line.split(\"  \"))\n",
    "    # drop blank lines\n",
    "    text = '\\n'.join(chunk for chunk in chunks if chunk)\n",
    "    allbodies+=text\n"
   ]
  },
  {
   "cell_type": "code",
   "execution_count": 74,
   "id": "a4bf156b",
   "metadata": {},
   "outputs": [],
   "source": [
    "# delete special symbols\n",
    "allbodies = allbodies.lower()\n",
    "spec_chars = \"''«»—…---<>!$%&()*,-./:;<=>?@[\\]^_```{|}~\"\n",
    "allbodies = ''.join([ch for ch in allbodies if ch not in spec_chars])"
   ]
  },
  {
   "cell_type": "code",
   "execution_count": 75,
   "id": "d0fef19b",
   "metadata": {},
   "outputs": [],
   "source": [
    "# tokenize text\n",
    "from nltk import word_tokenize\n",
    "text_tokens = word_tokenize(allbodies)\n",
    "text = nltk.Text(text_tokens)"
   ]
  },
  {
   "cell_type": "code",
   "execution_count": 76,
   "id": "cf51879d",
   "metadata": {},
   "outputs": [],
   "source": [
    "# build vocabular with the most popular words\n",
    "vocabular = [] \n",
    "with open('/Users/sinya/vocabular.txt', 'r', encoding='utf8') as f: \n",
    "    soup = BeautifulSoup(f)\n",
    "    # get text\n",
    "    text = soup.get_text()\n",
    "    # break into lines and remove leading and trailing space on each\n",
    "    for line in text.splitlines():\n",
    "        vocabular+=line.strip().split()"
   ]
  },
  {
   "cell_type": "code",
   "execution_count": 77,
   "id": "0f65ea8d",
   "metadata": {},
   "outputs": [
    {
     "name": "stdout",
     "output_type": "stream",
     "text": [
      "\n"
     ]
    }
   ],
   "source": [
    "# delete stopwords and common words from the text\n",
    "from nltk.corpus import stopwords\n",
    "#nltk.download('stopwords')\n",
    "english_stopwords = set(stopwords.words(\"english\"))\n",
    "common_words = set(vocabular)\n",
    "manual_stopwords = {\"''\",'``'}\n",
    "\n",
    "filtered_text = []\n",
    "filtered_text = [w for w in text_tokens if not w in english_stopwords]\n",
    "filtered_text = [w for w in filtered_text if not w in common_words]\n",
    "filtered_text = [w for w in filtered_text if not w in manual_stopwords]\n",
    "\n",
    "print()"
   ]
  },
  {
   "cell_type": "code",
   "execution_count": 79,
   "id": "ab15057d",
   "metadata": {},
   "outputs": [
    {
     "data": {
      "text/plain": [
       "[('#', 19269),\n",
       " ('import', 14759),\n",
       " ('const', 11114),\n",
       " ('using', 9625),\n",
       " ('1', 9167),\n",
       " ('code', 9049),\n",
       " ('0', 7597),\n",
       " ('version', 7371),\n",
       " ('npm', 6416),\n",
       " ('div', 6095),\n",
       " ('app', 5542),\n",
       " ('function', 5515),\n",
       " ('err', 5301),\n",
       " ('data', 5229),\n",
       " ('id', 5131),\n",
       " ('im', 4819),\n",
       " ('failed', 4584),\n",
       " ('tried', 4561),\n",
       " ('2', 4538),\n",
       " ('following', 4458),\n",
       " ('found', 4418),\n",
       " ('trying', 4296),\n",
       " ('+', 4238),\n",
       " ('info', 4134),\n",
       " ('install', 3873),\n",
       " ('default', 3647),\n",
       " ('module', 3521),\n",
       " ('user', 3470),\n",
       " ('server', 3467),\n",
       " ('null', 3435),\n",
       " ('running', 3053),\n",
       " ('export', 3017),\n",
       " ('await', 2993),\n",
       " ('3', 2951),\n",
       " ('var', 2777),\n",
       " ('dependency', 2661),\n",
       " ('text', 2613),\n",
       " ('getting', 2610),\n",
       " ('api', 2582),\n",
       " ('component', 2438),\n",
       " ('python', 2400),\n",
       " ('files', 2379),\n",
       " ('async', 2365),\n",
       " ('working', 2363),\n",
       " ('script', 2328),\n",
       " ('package', 2327),\n",
       " ('application', 2310),\n",
       " ('android', 2290),\n",
       " ('button', 2256),\n",
       " ('ive', 2210),\n",
       " ('exception', 2150),\n",
       " ('dont', 2143),\n",
       " ('update', 2126),\n",
       " ('request', 2107),\n",
       " ('output', 2102),\n",
       " ('works', 2069),\n",
       " ('gyp', 2057),\n",
       " ('10', 2049),\n",
       " ('url', 2022),\n",
       " ('input', 1986),\n",
       " ('dependencies', 1909),\n",
       " ('installed', 1909),\n",
       " ('cant', 1895),\n",
       " ('required', 1892),\n",
       " ('5', 1855),\n",
       " ('c', 1800),\n",
       " ('page', 1796),\n",
       " ('doesnt', 1789),\n",
       " ('node', 1787),\n",
       " ('def', 1754),\n",
       " ('int', 1752),\n",
       " ('void', 1740),\n",
       " ('4', 1715),\n",
       " ('configuration', 1697),\n",
       " ('token', 1691),\n",
       " ('color', 1673),\n",
       " ('log', 1664),\n",
       " ('status', 1659),\n",
       " ('created', 1647),\n",
       " ('response', 1631),\n",
       " ('implementation', 1602),\n",
       " ('context', 1599),\n",
       " ('docker', 1572),\n",
       " ('got', 1567),\n",
       " ('config', 1539),\n",
       " ('access', 1502),\n",
       " ('e', 1501),\n",
       " ('client', 1485),\n",
       " ('errors', 1465),\n",
       " ('classname', 1445),\n",
       " ('undefined', 1438),\n",
       " ('title', 1435),\n",
       " ('plugin', 1430),\n",
       " ('debug', 1427),\n",
       " ('options', 1402),\n",
       " ('password', 1391),\n",
       " ('link', 1391),\n",
       " ('directory', 1379),\n",
       " ('flutter', 1369),\n",
       " ('stack', 1360)]"
      ]
     },
     "execution_count": 79,
     "metadata": {},
     "output_type": "execute_result"
    }
   ],
   "source": [
    "# count the number of each token and choosing top 100\n",
    "from nltk.probability import FreqDist\n",
    "fdist = FreqDist(filtered_text)\n",
    "fdist.most_common(100)"
   ]
  },
  {
   "cell_type": "code",
   "execution_count": 80,
   "id": "62ba87f4",
   "metadata": {},
   "outputs": [
    {
     "data": {
      "image/png": "[encoded data removed]",
      "text/plain": [
       "<Figure size 432x288 with 1 Axes>"
      ]
     },
     "metadata": {
      "needs_background": "light"
     },
     "output_type": "display_data"
    },
    {
     "data": {
      "text/plain": [
       "<AxesSubplot:xlabel='Samples', ylabel='Counts'>"
      ]
     },
     "execution_count": 80,
     "metadata": {},
     "output_type": "execute_result"
    }
   ],
   "source": [
    "fdist.plot(30,cumulative=False)"
   ]
  },
  {
   "cell_type": "code",
   "execution_count": 92,
   "id": "a211328a",
   "metadata": {},
   "outputs": [],
   "source": [
    "tags=[['python',0],['javascript',0],['reactjs',0],['java',0],['android',0],['node',0],['c',0],['flutter',0],['typescript',0],['html',0]]\n",
    "for i in range(len(tags)):\n",
    "    tags[i][1]=int(fdist[tags[i][0]])\n"
   ]
  },
  {
   "cell_type": "code",
   "execution_count": 94,
   "id": "123dd979",
   "metadata": {},
   "outputs": [
    {
     "data": {
      "text/plain": [
       "<BarContainer object of 10 artists>"
      ]
     },
     "execution_count": 94,
     "metadata": {},
     "output_type": "execute_result"
    },
    {
     "data": {
      "image/png": "[encoded data removed]",
      "text/plain": [
       "<Figure size 1080x504 with 1 Axes>"
      ]
     },
     "metadata": {
      "needs_background": "light"
     },
     "output_type": "display_data"
    }
   ],
   "source": [
    "plt.figure(figsize=[15, 7])\n",
    "plt.title('Top 10 Tags in Title Bodies', fontsize=20)\n",
    "plt.ylabel('Counts', fontsize=15)\n",
    "plt.xlabel('Tags', fontsize=15)\n",
    "nums = [tags[i][0] for i in range(10)]\n",
    "weights = [tags[i][1] for i in range(10)]\n",
    "plt.bar(nums, weights, width=0.9)"
   ]
  },
  {
   "cell_type": "code",
   "execution_count": null,
   "id": "20dd0e34",
   "metadata": {},
   "outputs": [],
   "source": []
  }
 ],
 "metadata": {
  "kernelspec": {
   "display_name": "Python 3",
   "language": "python",
   "name": "python3"
  },
  "language_info": {
   "codemirror_mode": {
    "name": "ipython",
    "version": 3
   },
   "file_extension": ".py",
   "mimetype": "text/x-python",
   "name": "python",
   "nbconvert_exporter": "python",
   "pygments_lexer": "ipython3",
   "version": "3.8.8"
  }
 },
 "nbformat": 4,
 "nbformat_minor": 5
}
